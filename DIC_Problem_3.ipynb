{
 "cells": [
  {
   "cell_type": "code",
   "execution_count": 3,
   "metadata": {
    "collapsed": false
   },
   "outputs": [
    {
     "name": "stdout",
     "output_type": "stream",
     "text": [
      "[1] \"Using direct authentication\"\n"
     ]
    }
   ],
   "source": [
    "library(\"twitteR\")\n",
    "consumer_key <- 'GmfDv9SHvrzamFCl6rdrRXz9o'\n",
    "consumer_secret <-'FCDWoV2QwKYfkggcWkbFATQcBqlfQOTmAxglAGrYdUsJQnzKpx'\n",
    "access_token <- '1246572168-mp0E4vgMd67RCsjRwLrTHgwquqxxTIGyaBrE3sW'\n",
    "access_secret <- 'jltmB78vO2ZHqwMTfrH9p8nNvDQ7WKliVT8AU3FZPmUp4'\n",
    "setup_twitter_oauth(consumer_key, consumer_secret, access_token, access_secret)"
   ]
  },
  {
   "cell_type": "code",
   "execution_count": 7,
   "metadata": {
    "collapsed": false,
    "scrolled": true
   },
   "outputs": [],
   "source": [
    "#-------------------------------------------------------------------------------------------------------------\n",
    "#Problem 3: Summarizing trending topics about a location (place).\n",
    "#-------------------------------------------------------------------------------------------------------------\n",
    "library(\"ggmap\")                                     \n",
    "library(maps)                 \n",
    "library(\"maptools\")\n",
    "library(\"twitteR\")\n",
    "cityName <- \"Los Angeles\"                               "
   ]
  },
  {
   "cell_type": "markdown",
   "metadata": {},
   "source": [
    "1. The city name has to be inserted in the 'cityName' variable"
   ]
  },
  {
   "cell_type": "code",
   "execution_count": 8,
   "metadata": {
    "collapsed": false
   },
   "outputs": [
    {
     "name": "stderr",
     "output_type": "stream",
     "text": [
      "Information from URL : http://maps.googleapis.com/maps/api/geocode/json?address=Los%20Angeles&sensor=false\n"
     ]
    }
   ],
   "source": [
    "plots <- geocode(cityName)                          \n",
    "x.axis <- plots$lon\n",
    "y.axis <- plots$lat\n",
    "newFrame <- closestTrendLocations(y.axis,x.axis)     "
   ]
  },
  {
   "cell_type": "markdown",
   "metadata": {},
   "source": [
    "1. geocode() method finds geocode of the location inserted\n",
    "2. Based on the geocode we find the closest trends using the closestTrendLocations() method"
   ]
  },
  {
   "cell_type": "code",
   "execution_count": 9,
   "metadata": {
    "collapsed": false
   },
   "outputs": [
    {
     "name": "stdout",
     "output_type": "stream",
     "text": [
      "Here are the top 10 trending tweets in  Los Angeles  >> 1 ) #NationalDrinkWineDay  | 2 ) #NoBanNoWall  | 3 ) #NotTheEnemy  | 4 ) On Body and Soul  | 5 ) Kyrie Irving  | 6 ) #saturdaymorning  | 7 ) Maher  | 8 ) #FACup  | 9 ) Soulquarius  | 10 ) Norma McCorvey  | "
     ]
    },
    {
     "data": {
      "text/html": [
       "<table>\n",
       "<thead><tr><th scope=col>name</th><th scope=col>url</th><th scope=col>query</th><th scope=col>woeid</th></tr></thead>\n",
       "<tbody>\n",
       "\t<tr><td>#NationalDrinkWineDay                              </td><td>http://twitter.com/search?q=%23NationalDrinkWineDay</td><td>%23NationalDrinkWineDay                            </td><td>2442047                                            </td></tr>\n",
       "\t<tr><td>#NoBanNoWall                                       </td><td>http://twitter.com/search?q=%23NoBanNoWall         </td><td>%23NoBanNoWall                                     </td><td>2442047                                            </td></tr>\n",
       "\t<tr><td>#NotTheEnemy                                       </td><td>http://twitter.com/search?q=%23NotTheEnemy         </td><td>%23NotTheEnemy                                     </td><td>2442047                                            </td></tr>\n",
       "\t<tr><td>On Body and Soul                                   </td><td>http://twitter.com/search?q=%22On+Body+and+Soul%22 </td><td>%22On+Body+and+Soul%22                             </td><td>2442047                                            </td></tr>\n",
       "\t<tr><td>Kyrie Irving                                       </td><td>http://twitter.com/search?q=%22Kyrie+Irving%22     </td><td>%22Kyrie+Irving%22                                 </td><td>2442047                                            </td></tr>\n",
       "\t<tr><td>#saturdaymorning                                   </td><td>http://twitter.com/search?q=%23saturdaymorning     </td><td>%23saturdaymorning                                 </td><td>2442047                                            </td></tr>\n",
       "\t<tr><td>Maher                                              </td><td>http://twitter.com/search?q=Maher                  </td><td>Maher                                              </td><td>2442047                                            </td></tr>\n",
       "\t<tr><td>#FACup                                             </td><td>http://twitter.com/search?q=%23FACup               </td><td>%23FACup                                           </td><td>2442047                                            </td></tr>\n",
       "\t<tr><td>Soulquarius                                        </td><td>http://twitter.com/search?q=Soulquarius            </td><td>Soulquarius                                        </td><td>2442047                                            </td></tr>\n",
       "\t<tr><td>Norma McCorvey                                     </td><td>http://twitter.com/search?q=%22Norma+McCorvey%22   </td><td>%22Norma+McCorvey%22                               </td><td>2442047                                            </td></tr>\n",
       "</tbody>\n",
       "</table>\n"
      ],
      "text/latex": [
       "\\begin{tabular}{r|llll}\n",
       " name & url & query & woeid\\\\\n",
       "\\hline\n",
       "\t \\#NationalDrinkWineDay                               & http://twitter.com/search?q=\\%23NationalDrinkWineDay & \\%23NationalDrinkWineDay                             & 2442047                                              \\\\\n",
       "\t \\#NoBanNoWall                                        & http://twitter.com/search?q=\\%23NoBanNoWall          & \\%23NoBanNoWall                                      & 2442047                                              \\\\\n",
       "\t \\#NotTheEnemy                                        & http://twitter.com/search?q=\\%23NotTheEnemy          & \\%23NotTheEnemy                                      & 2442047                                              \\\\\n",
       "\t On Body and Soul                                        & http://twitter.com/search?q=\\%22On+Body+and+Soul\\%22  & \\%22On+Body+and+Soul\\%22                              & 2442047                                                \\\\\n",
       "\t Kyrie Irving                                            & http://twitter.com/search?q=\\%22Kyrie+Irving\\%22      & \\%22Kyrie+Irving\\%22                                  & 2442047                                                \\\\\n",
       "\t \\#saturdaymorning                                    & http://twitter.com/search?q=\\%23saturdaymorning      & \\%23saturdaymorning                                  & 2442047                                              \\\\\n",
       "\t Maher                                               & http://twitter.com/search?q=Maher                   & Maher                                               & 2442047                                            \\\\\n",
       "\t \\#FACup                                              & http://twitter.com/search?q=\\%23FACup                & \\%23FACup                                            & 2442047                                              \\\\\n",
       "\t Soulquarius                                         & http://twitter.com/search?q=Soulquarius             & Soulquarius                                         & 2442047                                            \\\\\n",
       "\t Norma McCorvey                                          & http://twitter.com/search?q=\\%22Norma+McCorvey\\%22    & \\%22Norma+McCorvey\\%22                                & 2442047                                                \\\\\n",
       "\\end{tabular}\n"
      ],
      "text/markdown": [
       "\n",
       "name | url | query | woeid | \n",
       "|---|---|---|---|---|---|---|---|---|---|\n",
       "| #NationalDrinkWineDay                               | http://twitter.com/search?q=%23NationalDrinkWineDay | %23NationalDrinkWineDay                             | 2442047                                             | \n",
       "| #NoBanNoWall                                        | http://twitter.com/search?q=%23NoBanNoWall          | %23NoBanNoWall                                      | 2442047                                             | \n",
       "| #NotTheEnemy                                        | http://twitter.com/search?q=%23NotTheEnemy          | %23NotTheEnemy                                      | 2442047                                             | \n",
       "| On Body and Soul                                    | http://twitter.com/search?q=%22On+Body+and+Soul%22  | %22On+Body+and+Soul%22                              | 2442047                                             | \n",
       "| Kyrie Irving                                        | http://twitter.com/search?q=%22Kyrie+Irving%22      | %22Kyrie+Irving%22                                  | 2442047                                             | \n",
       "| #saturdaymorning                                    | http://twitter.com/search?q=%23saturdaymorning      | %23saturdaymorning                                  | 2442047                                             | \n",
       "| Maher                                               | http://twitter.com/search?q=Maher                   | Maher                                               | 2442047                                             | \n",
       "| #FACup                                              | http://twitter.com/search?q=%23FACup                | %23FACup                                            | 2442047                                             | \n",
       "| Soulquarius                                         | http://twitter.com/search?q=Soulquarius             | Soulquarius                                         | 2442047                                             | \n",
       "| Norma McCorvey                                      | http://twitter.com/search?q=%22Norma+McCorvey%22    | %22Norma+McCorvey%22                                | 2442047                                             | \n",
       "\n",
       "\n"
      ],
      "text/plain": [
       "   name                  url                                                \n",
       "1  #NationalDrinkWineDay http://twitter.com/search?q=%23NationalDrinkWineDay\n",
       "2  #NoBanNoWall          http://twitter.com/search?q=%23NoBanNoWall         \n",
       "3  #NotTheEnemy          http://twitter.com/search?q=%23NotTheEnemy         \n",
       "4  On Body and Soul      http://twitter.com/search?q=%22On+Body+and+Soul%22 \n",
       "5  Kyrie Irving          http://twitter.com/search?q=%22Kyrie+Irving%22     \n",
       "6  #saturdaymorning      http://twitter.com/search?q=%23saturdaymorning     \n",
       "7  Maher                 http://twitter.com/search?q=Maher                  \n",
       "8  #FACup                http://twitter.com/search?q=%23FACup               \n",
       "9  Soulquarius           http://twitter.com/search?q=Soulquarius            \n",
       "10 Norma McCorvey        http://twitter.com/search?q=%22Norma+McCorvey%22   \n",
       "   query                   woeid  \n",
       "1  %23NationalDrinkWineDay 2442047\n",
       "2  %23NoBanNoWall          2442047\n",
       "3  %23NotTheEnemy          2442047\n",
       "4  %22On+Body+and+Soul%22  2442047\n",
       "5  %22Kyrie+Irving%22      2442047\n",
       "6  %23saturdaymorning      2442047\n",
       "7  Maher                   2442047\n",
       "8  %23FACup                2442047\n",
       "9  Soulquarius             2442047\n",
       "10 %22Norma+McCorvey%22    2442047"
      ]
     },
     "metadata": {},
     "output_type": "display_data"
    }
   ],
   "source": [
    "trendFrame <- getTrends(newFrame$woeid)\n",
    "cat(\"Here are the top 10 trending tweets in \",cityName,\" >> \")\n",
    "for(i in 1:10){\n",
    "        cat(i,\")\",trendFrame$name[i],\" | \")\n",
    "}\n",
    "trendFrame[1:10,]"
   ]
  },
  {
   "cell_type": "markdown",
   "metadata": {
    "collapsed": true
   },
   "source": [
    "1. woeid for the specified location is obtained and then we find the trends for the specified woeid using getTrends() method\n",
    "2. Then we print top 10 trends using a for loop to loop over them.\n",
    "3. The summary of top ten trends has also been printed below.\n"
   ]
  }
 ],
 "metadata": {
  "kernelspec": {
   "display_name": "R",
   "language": "R",
   "name": "ir"
  },
  "language_info": {
   "codemirror_mode": "r",
   "file_extension": ".r",
   "mimetype": "text/x-r-source",
   "name": "R",
   "pygments_lexer": "r",
   "version": "3.3.2"
  }
 },
 "nbformat": 4,
 "nbformat_minor": 2
}
