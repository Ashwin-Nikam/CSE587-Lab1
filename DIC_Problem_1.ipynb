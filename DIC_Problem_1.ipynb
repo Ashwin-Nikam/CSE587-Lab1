{
 "cells": [
  {
   "cell_type": "code",
   "execution_count": 1,
   "metadata": {
    "collapsed": false
   },
   "outputs": [
    {
     "name": "stdout",
     "output_type": "stream",
     "text": [
      "[1] \"Using direct authentication\"\n"
     ]
    }
   ],
   "source": [
    "library(\"twitteR\")\n",
    "consumer_key <- 'GmfDv9SHvrzamFCl6rdrRXz9o'\n",
    "consumer_secret <-'FCDWoV2QwKYfkggcWkbFATQcBqlfQOTmAxglAGrYdUsJQnzKpx'\n",
    "access_token <- '1246572168-mp0E4vgMd67RCsjRwLrTHgwquqxxTIGyaBrE3sW'\n",
    "access_secret <- 'jltmB78vO2ZHqwMTfrH9p8nNvDQ7WKliVT8AU3FZPmUp4'\n",
    "setup_twitter_oauth(consumer_key, consumer_secret, access_token, access_secret)"
   ]
  },
  {
   "cell_type": "code",
   "execution_count": 2,
   "metadata": {
    "collapsed": false
   },
   "outputs": [
    {
     "data": {
      "text/html": [
       "'https://www.facebook.com/ashwin.nikam.7'"
      ],
      "text/latex": [
       "'https://www.facebook.com/ashwin.nikam.7'"
      ],
      "text/markdown": [
       "'https://www.facebook.com/ashwin.nikam.7'"
      ],
      "text/plain": [
       "[1] \"https://www.facebook.com/ashwin.nikam.7\""
      ]
     },
     "metadata": {},
     "output_type": "display_data"
    }
   ],
   "source": [
    "library(\"twitteR\")\n",
    "decode_short_url(\"https://www.facebook.com/ashwin.nikam.7\")"
   ]
  },
  {
   "cell_type": "code",
   "execution_count": 3,
   "metadata": {
    "collapsed": false
   },
   "outputs": [
    {
     "data": {
      "text/html": [
       "'DIC Lab 1'"
      ],
      "text/latex": [
       "'DIC Lab 1'"
      ],
      "text/markdown": [
       "'DIC Lab 1'"
      ],
      "text/plain": [
       "[1] \"DIC Lab 1\""
      ]
     },
     "metadata": {},
     "output_type": "display_data"
    },
    {
     "data": {
      "text/plain": [
       "[1] \"ashwin_mufc->ashwin_mufc: Hello\""
      ]
     },
     "metadata": {},
     "output_type": "display_data"
    }
   ],
   "source": [
    "library(\"twitteR\")\n",
    "dm <- dmFactory$new(text='DIC Lab 1', recipientSN='ashwin_mufc')\n",
    "dm$getText()\n",
    "dmSend(\"Hello\",'ashwin_mufc')"
   ]
  },
  {
   "cell_type": "code",
   "execution_count": 4,
   "metadata": {
    "collapsed": false
   },
   "outputs": [
    {
     "data": {
      "text/plain": [
       "[[1]]\n",
       "[1] \"Sport__WAGs: Ivanka Trump - Donald Trump's daughter. #ElectionNight https://t.co/brLSvQNBC1\"\n",
       "\n",
       "[[2]]\n",
       "[1] \"UtdHQ: Sir Alex Ferguson took charge of his first #mufc game 30 years ago today. https://t.co/oruwhxu3rZ\"\n",
       "\n",
       "[[3]]\n",
       "[1] \"HerreraTekkers: Mourinho at his best https://t.co/f79fHIuWMw\"\n",
       "\n",
       "[[4]]\n",
       "[1] \"PrimeMUFC: This Sir Alex Ferguson tribute gives me goosebumps.\\n\\n#MUFC\\nhttps://t.co/epdn1id9J1\"\n"
      ]
     },
     "metadata": {},
     "output_type": "display_data"
    },
    {
     "data": {
      "text/html": [
       "<table>\n",
       "<thead><tr><th scope=col>name</th><th scope=col>screen_name</th><th scope=col>id</th><th scope=col>following</th><th scope=col>followed_by</th></tr></thead>\n",
       "<tbody>\n",
       "\t<tr><td>krk          </td><td>krk          </td><td>9533372      </td><td>FALSE        </td><td>FALSE        </td></tr>\n",
       "\t<tr><td>Shreyas Doshi</td><td>shreyas      </td><td>2048741      </td><td>FALSE        </td><td>FALSE        </td></tr>\n",
       "</tbody>\n",
       "</table>\n"
      ],
      "text/latex": [
       "\\begin{tabular}{r|lllll}\n",
       " name & screen\\_name & id & following & followed\\_by\\\\\n",
       "\\hline\n",
       "\t krk           & krk           & 9533372       & FALSE         & FALSE        \\\\\n",
       "\t Shreyas Doshi & shreyas       & 2048741       & FALSE         & FALSE        \\\\\n",
       "\\end{tabular}\n"
      ],
      "text/markdown": [
       "\n",
       "name | screen_name | id | following | followed_by | \n",
       "|---|---|\n",
       "| krk           | krk           | 9533372       | FALSE         | FALSE         | \n",
       "| Shreyas Doshi | shreyas       | 2048741       | FALSE         | FALSE         | \n",
       "\n",
       "\n"
      ],
      "text/plain": [
       "  name          screen_name id      following followed_by\n",
       "1 krk           krk         9533372 FALSE     FALSE      \n",
       "2 Shreyas Doshi shreyas     2048741 FALSE     FALSE      "
      ]
     },
     "metadata": {},
     "output_type": "display_data"
    },
    {
     "data": {
      "text/html": [
       "<table>\n",
       "<thead><tr><th scope=col>resource</th><th scope=col>limit</th><th scope=col>remaining</th><th scope=col>reset</th></tr></thead>\n",
       "<tbody>\n",
       "\t<tr><td>/lists/list                     </td><td>15                              </td><td>15                              </td><td>2017-02-17 05:25:17             </td></tr>\n",
       "\t<tr><td>/lists/memberships              </td><td>75                              </td><td>75                              </td><td>2017-02-17 05:25:17             </td></tr>\n",
       "\t<tr><td>/lists/subscribers/show         </td><td>15                              </td><td>15                              </td><td>2017-02-17 05:25:17             </td></tr>\n",
       "\t<tr><td>/lists/members                  </td><td>900                             </td><td>900                             </td><td>2017-02-17 05:25:17             </td></tr>\n",
       "\t<tr><td>/lists/subscriptions            </td><td>15                              </td><td>15                              </td><td>2017-02-17 05:25:17             </td></tr>\n",
       "\t<tr><td>/lists/show                     </td><td>75                              </td><td>75                              </td><td>2017-02-17 05:25:17             </td></tr>\n",
       "\t<tr><td>/lists/ownerships               </td><td>15                              </td><td>15                              </td><td>2017-02-17 05:25:17             </td></tr>\n",
       "\t<tr><td>/lists/subscribers              </td><td>180                             </td><td>180                             </td><td>2017-02-17 05:25:17             </td></tr>\n",
       "\t<tr><td>/lists/members/show             </td><td>15                              </td><td>15                              </td><td>2017-02-17 05:25:17             </td></tr>\n",
       "\t<tr><td>/lists/statuses                 </td><td>900                             </td><td>900                             </td><td>2017-02-17 05:25:17             </td></tr>\n",
       "\t<tr><td>/users/report_spam              </td><td>15                              </td><td>15                              </td><td>2017-02-17 05:25:17             </td></tr>\n",
       "\t<tr><td>/users/show/:id                 </td><td>900                             </td><td>900                             </td><td>2017-02-17 05:25:17             </td></tr>\n",
       "\t<tr><td>/users/search                   </td><td>900                             </td><td>900                             </td><td>2017-02-17 05:25:17             </td></tr>\n",
       "\t<tr><td>/users/suggestions/:slug        </td><td>15                              </td><td>15                              </td><td>2017-02-17 05:25:17             </td></tr>\n",
       "\t<tr><td>/users/derived_info             </td><td>15                              </td><td>15                              </td><td>2017-02-17 05:25:17             </td></tr>\n",
       "\t<tr><td>/users/profile_banner           </td><td>180                             </td><td>180                             </td><td>2017-02-17 05:25:17             </td></tr>\n",
       "\t<tr><td>/users/suggestions/:slug/members</td><td>15                              </td><td>15                              </td><td>2017-02-17 05:25:17             </td></tr>\n",
       "\t<tr><td>/users/lookup                   </td><td>900                             </td><td>900                             </td><td>2017-02-17 05:25:17             </td></tr>\n",
       "\t<tr><td>/users/suggestions              </td><td>15                              </td><td>15                              </td><td>2017-02-17 05:25:17             </td></tr>\n",
       "</tbody>\n",
       "</table>\n"
      ],
      "text/latex": [
       "\\begin{tabular}{r|llll}\n",
       " resource & limit & remaining & reset\\\\\n",
       "\\hline\n",
       "\t /lists/list                      & 15                               & 15                               & 2017-02-17 05:25:17             \\\\\n",
       "\t /lists/memberships               & 75                               & 75                               & 2017-02-17 05:25:17             \\\\\n",
       "\t /lists/subscribers/show          & 15                               & 15                               & 2017-02-17 05:25:17             \\\\\n",
       "\t /lists/members                   & 900                              & 900                              & 2017-02-17 05:25:17             \\\\\n",
       "\t /lists/subscriptions             & 15                               & 15                               & 2017-02-17 05:25:17             \\\\\n",
       "\t /lists/show                      & 75                               & 75                               & 2017-02-17 05:25:17             \\\\\n",
       "\t /lists/ownerships                & 15                               & 15                               & 2017-02-17 05:25:17             \\\\\n",
       "\t /lists/subscribers               & 180                              & 180                              & 2017-02-17 05:25:17             \\\\\n",
       "\t /lists/members/show              & 15                               & 15                               & 2017-02-17 05:25:17             \\\\\n",
       "\t /lists/statuses                  & 900                              & 900                              & 2017-02-17 05:25:17             \\\\\n",
       "\t /users/report\\_spam               & 15                                 & 15                                 & 2017-02-17 05:25:17               \\\\\n",
       "\t /users/show/:id                  & 900                              & 900                              & 2017-02-17 05:25:17             \\\\\n",
       "\t /users/search                    & 900                              & 900                              & 2017-02-17 05:25:17             \\\\\n",
       "\t /users/suggestions/:slug         & 15                               & 15                               & 2017-02-17 05:25:17             \\\\\n",
       "\t /users/derived\\_info              & 15                                 & 15                                 & 2017-02-17 05:25:17               \\\\\n",
       "\t /users/profile\\_banner            & 180                                & 180                                & 2017-02-17 05:25:17               \\\\\n",
       "\t /users/suggestions/:slug/members & 15                               & 15                               & 2017-02-17 05:25:17             \\\\\n",
       "\t /users/lookup                    & 900                              & 900                              & 2017-02-17 05:25:17             \\\\\n",
       "\t /users/suggestions               & 15                               & 15                               & 2017-02-17 05:25:17             \\\\\n",
       "\\end{tabular}\n"
      ],
      "text/markdown": [
       "\n",
       "resource | limit | remaining | reset | \n",
       "|---|---|---|---|---|---|---|---|---|---|---|---|---|---|---|---|---|---|---|\n",
       "| /lists/list                      | 15                               | 15                               | 2017-02-17 05:25:17              | \n",
       "| /lists/memberships               | 75                               | 75                               | 2017-02-17 05:25:17              | \n",
       "| /lists/subscribers/show          | 15                               | 15                               | 2017-02-17 05:25:17              | \n",
       "| /lists/members                   | 900                              | 900                              | 2017-02-17 05:25:17              | \n",
       "| /lists/subscriptions             | 15                               | 15                               | 2017-02-17 05:25:17              | \n",
       "| /lists/show                      | 75                               | 75                               | 2017-02-17 05:25:17              | \n",
       "| /lists/ownerships                | 15                               | 15                               | 2017-02-17 05:25:17              | \n",
       "| /lists/subscribers               | 180                              | 180                              | 2017-02-17 05:25:17              | \n",
       "| /lists/members/show              | 15                               | 15                               | 2017-02-17 05:25:17              | \n",
       "| /lists/statuses                  | 900                              | 900                              | 2017-02-17 05:25:17              | \n",
       "| /users/report_spam               | 15                               | 15                               | 2017-02-17 05:25:17              | \n",
       "| /users/show/:id                  | 900                              | 900                              | 2017-02-17 05:25:17              | \n",
       "| /users/search                    | 900                              | 900                              | 2017-02-17 05:25:17              | \n",
       "| /users/suggestions/:slug         | 15                               | 15                               | 2017-02-17 05:25:17              | \n",
       "| /users/derived_info              | 15                               | 15                               | 2017-02-17 05:25:17              | \n",
       "| /users/profile_banner            | 180                              | 180                              | 2017-02-17 05:25:17              | \n",
       "| /users/suggestions/:slug/members | 15                               | 15                               | 2017-02-17 05:25:17              | \n",
       "| /users/lookup                    | 900                              | 900                              | 2017-02-17 05:25:17              | \n",
       "| /users/suggestions               | 15                               | 15                               | 2017-02-17 05:25:17              | \n",
       "\n",
       "\n"
      ],
      "text/plain": [
       "   resource                         limit remaining reset              \n",
       "1  /lists/list                      15    15        2017-02-17 05:25:17\n",
       "2  /lists/memberships               75    75        2017-02-17 05:25:17\n",
       "3  /lists/subscribers/show          15    15        2017-02-17 05:25:17\n",
       "4  /lists/members                   900   900       2017-02-17 05:25:17\n",
       "5  /lists/subscriptions             15    15        2017-02-17 05:25:17\n",
       "6  /lists/show                      75    75        2017-02-17 05:25:17\n",
       "7  /lists/ownerships                15    15        2017-02-17 05:25:17\n",
       "8  /lists/subscribers               180   180       2017-02-17 05:25:17\n",
       "9  /lists/members/show              15    15        2017-02-17 05:25:17\n",
       "10 /lists/statuses                  900   900       2017-02-17 05:25:17\n",
       "11 /users/report_spam               15    15        2017-02-17 05:25:17\n",
       "12 /users/show/:id                  900   900       2017-02-17 05:25:17\n",
       "13 /users/search                    900   900       2017-02-17 05:25:17\n",
       "14 /users/suggestions/:slug         15    15        2017-02-17 05:25:17\n",
       "15 /users/derived_info              15    15        2017-02-17 05:25:17\n",
       "16 /users/profile_banner            180   180       2017-02-17 05:25:17\n",
       "17 /users/suggestions/:slug/members 15    15        2017-02-17 05:25:17\n",
       "18 /users/lookup                    900   900       2017-02-17 05:25:17\n",
       "19 /users/suggestions               15    15        2017-02-17 05:25:17"
      ]
     },
     "metadata": {},
     "output_type": "display_data"
    }
   ],
   "source": [
    "library(\"twitteR\")\n",
    "favorites('ashwin_mufc', n = 5, max_id = NULL, since_id = NULL)\n",
    "friendships(screen_names = c('KRK','Shreyas'), user_ids = c('@kamaalrkhan','@DangareShreyas'))\n",
    "info <- getCurRateLimitInfo(c(\"lists\", \"users\"))\n",
    "info"
   ]
  },
  {
   "cell_type": "code",
   "execution_count": 5,
   "metadata": {
    "collapsed": false
   },
   "outputs": [
    {
     "data": {
      "text/html": [
       "<table>\n",
       "<thead><tr><th scope=col>name</th><th scope=col>country</th><th scope=col>woeid</th></tr></thead>\n",
       "<tbody>\n",
       "\t<tr><td>Worldwide     </td><td>              </td><td>1             </td></tr>\n",
       "\t<tr><td>Winnipeg      </td><td>Canada        </td><td>2972          </td></tr>\n",
       "\t<tr><td>Ottawa        </td><td>Canada        </td><td>3369          </td></tr>\n",
       "\t<tr><td>Quebec        </td><td>Canada        </td><td>3444          </td></tr>\n",
       "\t<tr><td>Montreal      </td><td>Canada        </td><td>3534          </td></tr>\n",
       "\t<tr><td>Toronto       </td><td>Canada        </td><td>4118          </td></tr>\n",
       "\t<tr><td>Edmonton      </td><td>Canada        </td><td>8676          </td></tr>\n",
       "\t<tr><td>Calgary       </td><td>Canada        </td><td>8775          </td></tr>\n",
       "\t<tr><td>Vancouver     </td><td>Canada        </td><td>9807          </td></tr>\n",
       "\t<tr><td>Birmingham    </td><td>United Kingdom</td><td>12723         </td></tr>\n",
       "\t<tr><td>Blackpool     </td><td>United Kingdom</td><td>12903         </td></tr>\n",
       "\t<tr><td>Bournemouth   </td><td>United Kingdom</td><td>13383         </td></tr>\n",
       "\t<tr><td>Brighton      </td><td>United Kingdom</td><td>13911         </td></tr>\n",
       "\t<tr><td>Bristol       </td><td>United Kingdom</td><td>13963         </td></tr>\n",
       "\t<tr><td>Cardiff       </td><td>United Kingdom</td><td>15127         </td></tr>\n",
       "\t<tr><td>Coventry      </td><td>United Kingdom</td><td>17044         </td></tr>\n",
       "\t<tr><td>Derby         </td><td>United Kingdom</td><td>18114         </td></tr>\n",
       "\t<tr><td>Edinburgh     </td><td>United Kingdom</td><td>19344         </td></tr>\n",
       "\t<tr><td>Glasgow       </td><td>United Kingdom</td><td>21125         </td></tr>\n",
       "\t<tr><td>Hull          </td><td>United Kingdom</td><td>25211         </td></tr>\n",
       "\t<tr><td>Leeds         </td><td>United Kingdom</td><td>26042         </td></tr>\n",
       "\t<tr><td>Leicester     </td><td>United Kingdom</td><td>26062         </td></tr>\n",
       "\t<tr><td>Liverpool     </td><td>United Kingdom</td><td>26734         </td></tr>\n",
       "\t<tr><td>Manchester    </td><td>United Kingdom</td><td>28218         </td></tr>\n",
       "\t<tr><td>Middlesbrough </td><td>United Kingdom</td><td>28869         </td></tr>\n",
       "\t<tr><td>Newcastle     </td><td>United Kingdom</td><td>30079         </td></tr>\n",
       "\t<tr><td>Nottingham    </td><td>United Kingdom</td><td>30720         </td></tr>\n",
       "\t<tr><td>Plymouth      </td><td>United Kingdom</td><td>32185         </td></tr>\n",
       "\t<tr><td>Portsmouth    </td><td>United Kingdom</td><td>32452         </td></tr>\n",
       "\t<tr><td>Preston       </td><td>United Kingdom</td><td>32566         </td></tr>\n",
       "\t<tr><td>⋮</td><td>⋮</td><td>⋮</td></tr>\n",
       "\t<tr><td>Nigeria       </td><td>Nigeria       </td><td>23424908      </td></tr>\n",
       "\t<tr><td>Netherlands   </td><td>Netherlands   </td><td>23424909      </td></tr>\n",
       "\t<tr><td>Norway        </td><td>Norway        </td><td>23424910      </td></tr>\n",
       "\t<tr><td>New Zealand   </td><td>New Zealand   </td><td>23424916      </td></tr>\n",
       "\t<tr><td>Peru          </td><td>Peru          </td><td>23424919      </td></tr>\n",
       "\t<tr><td>Pakistan      </td><td>Pakistan      </td><td>23424922      </td></tr>\n",
       "\t<tr><td>Poland        </td><td>Poland        </td><td>23424923      </td></tr>\n",
       "\t<tr><td>Panama        </td><td>Panama        </td><td>23424924      </td></tr>\n",
       "\t<tr><td>Portugal      </td><td>Portugal      </td><td>23424925      </td></tr>\n",
       "\t<tr><td>Qatar         </td><td>Qatar         </td><td>23424930      </td></tr>\n",
       "\t<tr><td>Philippines   </td><td>Philippines   </td><td>23424934      </td></tr>\n",
       "\t<tr><td>Puerto Rico   </td><td>Puerto Rico   </td><td>23424935      </td></tr>\n",
       "\t<tr><td>Russia        </td><td>Russia        </td><td>23424936      </td></tr>\n",
       "\t<tr><td>Saudi Arabia  </td><td>Saudi Arabia  </td><td>23424938      </td></tr>\n",
       "\t<tr><td>South Africa  </td><td>South Africa  </td><td>23424942      </td></tr>\n",
       "\t<tr><td>Singapore     </td><td>Singapore     </td><td>23424948      </td></tr>\n",
       "\t<tr><td>Spain         </td><td>Spain         </td><td>23424950      </td></tr>\n",
       "\t<tr><td>Sweden        </td><td>Sweden        </td><td>23424954      </td></tr>\n",
       "\t<tr><td>Switzerland   </td><td>Switzerland   </td><td>23424957      </td></tr>\n",
       "\t<tr><td>Thailand      </td><td>Thailand      </td><td>23424960      </td></tr>\n",
       "\t<tr><td>Turkey        </td><td>Turkey        </td><td>23424969      </td></tr>\n",
       "\t<tr><td>United Kingdom</td><td>United Kingdom</td><td>23424975      </td></tr>\n",
       "\t<tr><td>Ukraine       </td><td>Ukraine       </td><td>23424976      </td></tr>\n",
       "\t<tr><td>United States </td><td>United States </td><td>23424977      </td></tr>\n",
       "\t<tr><td>Venezuela     </td><td>Venezuela     </td><td>23424982      </td></tr>\n",
       "\t<tr><td>Vietnam       </td><td>Vietnam       </td><td>23424984      </td></tr>\n",
       "\t<tr><td>Petaling      </td><td>Malaysia      </td><td>56013632      </td></tr>\n",
       "\t<tr><td>Hulu Langat   </td><td>Malaysia      </td><td>56013645      </td></tr>\n",
       "\t<tr><td>Ahsa          </td><td>Saudi Arabia  </td><td>56120136      </td></tr>\n",
       "\t<tr><td>Okayama       </td><td>Japan         </td><td>90036018      </td></tr>\n",
       "</tbody>\n",
       "</table>\n"
      ],
      "text/latex": [
       "\\begin{tabular}{r|lll}\n",
       " name & country & woeid\\\\\n",
       "\\hline\n",
       "\t Worldwide      &                & 1             \\\\\n",
       "\t Winnipeg       & Canada         & 2972          \\\\\n",
       "\t Ottawa         & Canada         & 3369          \\\\\n",
       "\t Quebec         & Canada         & 3444          \\\\\n",
       "\t Montreal       & Canada         & 3534          \\\\\n",
       "\t Toronto        & Canada         & 4118          \\\\\n",
       "\t Edmonton       & Canada         & 8676          \\\\\n",
       "\t Calgary        & Canada         & 8775          \\\\\n",
       "\t Vancouver      & Canada         & 9807          \\\\\n",
       "\t Birmingham     & United Kingdom & 12723         \\\\\n",
       "\t Blackpool      & United Kingdom & 12903         \\\\\n",
       "\t Bournemouth    & United Kingdom & 13383         \\\\\n",
       "\t Brighton       & United Kingdom & 13911         \\\\\n",
       "\t Bristol        & United Kingdom & 13963         \\\\\n",
       "\t Cardiff        & United Kingdom & 15127         \\\\\n",
       "\t Coventry       & United Kingdom & 17044         \\\\\n",
       "\t Derby          & United Kingdom & 18114         \\\\\n",
       "\t Edinburgh      & United Kingdom & 19344         \\\\\n",
       "\t Glasgow        & United Kingdom & 21125         \\\\\n",
       "\t Hull           & United Kingdom & 25211         \\\\\n",
       "\t Leeds          & United Kingdom & 26042         \\\\\n",
       "\t Leicester      & United Kingdom & 26062         \\\\\n",
       "\t Liverpool      & United Kingdom & 26734         \\\\\n",
       "\t Manchester     & United Kingdom & 28218         \\\\\n",
       "\t Middlesbrough  & United Kingdom & 28869         \\\\\n",
       "\t Newcastle      & United Kingdom & 30079         \\\\\n",
       "\t Nottingham     & United Kingdom & 30720         \\\\\n",
       "\t Plymouth       & United Kingdom & 32185         \\\\\n",
       "\t Portsmouth     & United Kingdom & 32452         \\\\\n",
       "\t Preston        & United Kingdom & 32566         \\\\\n",
       "\t ⋮ & ⋮ & ⋮\\\\\n",
       "\t Nigeria        & Nigeria        & 23424908      \\\\\n",
       "\t Netherlands    & Netherlands    & 23424909      \\\\\n",
       "\t Norway         & Norway         & 23424910      \\\\\n",
       "\t New Zealand    & New Zealand    & 23424916      \\\\\n",
       "\t Peru           & Peru           & 23424919      \\\\\n",
       "\t Pakistan       & Pakistan       & 23424922      \\\\\n",
       "\t Poland         & Poland         & 23424923      \\\\\n",
       "\t Panama         & Panama         & 23424924      \\\\\n",
       "\t Portugal       & Portugal       & 23424925      \\\\\n",
       "\t Qatar          & Qatar          & 23424930      \\\\\n",
       "\t Philippines    & Philippines    & 23424934      \\\\\n",
       "\t Puerto Rico    & Puerto Rico    & 23424935      \\\\\n",
       "\t Russia         & Russia         & 23424936      \\\\\n",
       "\t Saudi Arabia   & Saudi Arabia   & 23424938      \\\\\n",
       "\t South Africa   & South Africa   & 23424942      \\\\\n",
       "\t Singapore      & Singapore      & 23424948      \\\\\n",
       "\t Spain          & Spain          & 23424950      \\\\\n",
       "\t Sweden         & Sweden         & 23424954      \\\\\n",
       "\t Switzerland    & Switzerland    & 23424957      \\\\\n",
       "\t Thailand       & Thailand       & 23424960      \\\\\n",
       "\t Turkey         & Turkey         & 23424969      \\\\\n",
       "\t United Kingdom & United Kingdom & 23424975      \\\\\n",
       "\t Ukraine        & Ukraine        & 23424976      \\\\\n",
       "\t United States  & United States  & 23424977      \\\\\n",
       "\t Venezuela      & Venezuela      & 23424982      \\\\\n",
       "\t Vietnam        & Vietnam        & 23424984      \\\\\n",
       "\t Petaling       & Malaysia       & 56013632      \\\\\n",
       "\t Hulu Langat    & Malaysia       & 56013645      \\\\\n",
       "\t Ahsa           & Saudi Arabia   & 56120136      \\\\\n",
       "\t Okayama        & Japan          & 90036018      \\\\\n",
       "\\end{tabular}\n"
      ],
      "text/markdown": [
       "\n",
       "name | country | woeid | \n",
       "|---|---|---|---|---|---|---|---|---|---|---|---|---|---|---|---|---|---|---|---|---|---|---|---|---|---|---|---|---|---|---|---|---|---|---|---|---|---|---|---|---|---|---|---|---|---|---|---|---|---|---|---|---|---|---|---|---|---|---|---|---|\n",
       "| Worldwide      |                | 1              | \n",
       "| Winnipeg       | Canada         | 2972           | \n",
       "| Ottawa         | Canada         | 3369           | \n",
       "| Quebec         | Canada         | 3444           | \n",
       "| Montreal       | Canada         | 3534           | \n",
       "| Toronto        | Canada         | 4118           | \n",
       "| Edmonton       | Canada         | 8676           | \n",
       "| Calgary        | Canada         | 8775           | \n",
       "| Vancouver      | Canada         | 9807           | \n",
       "| Birmingham     | United Kingdom | 12723          | \n",
       "| Blackpool      | United Kingdom | 12903          | \n",
       "| Bournemouth    | United Kingdom | 13383          | \n",
       "| Brighton       | United Kingdom | 13911          | \n",
       "| Bristol        | United Kingdom | 13963          | \n",
       "| Cardiff        | United Kingdom | 15127          | \n",
       "| Coventry       | United Kingdom | 17044          | \n",
       "| Derby          | United Kingdom | 18114          | \n",
       "| Edinburgh      | United Kingdom | 19344          | \n",
       "| Glasgow        | United Kingdom | 21125          | \n",
       "| Hull           | United Kingdom | 25211          | \n",
       "| Leeds          | United Kingdom | 26042          | \n",
       "| Leicester      | United Kingdom | 26062          | \n",
       "| Liverpool      | United Kingdom | 26734          | \n",
       "| Manchester     | United Kingdom | 28218          | \n",
       "| Middlesbrough  | United Kingdom | 28869          | \n",
       "| Newcastle      | United Kingdom | 30079          | \n",
       "| Nottingham     | United Kingdom | 30720          | \n",
       "| Plymouth       | United Kingdom | 32185          | \n",
       "| Portsmouth     | United Kingdom | 32452          | \n",
       "| Preston        | United Kingdom | 32566          | \n",
       "| ⋮ | ⋮ | ⋮ | \n",
       "| Nigeria        | Nigeria        | 23424908       | \n",
       "| Netherlands    | Netherlands    | 23424909       | \n",
       "| Norway         | Norway         | 23424910       | \n",
       "| New Zealand    | New Zealand    | 23424916       | \n",
       "| Peru           | Peru           | 23424919       | \n",
       "| Pakistan       | Pakistan       | 23424922       | \n",
       "| Poland         | Poland         | 23424923       | \n",
       "| Panama         | Panama         | 23424924       | \n",
       "| Portugal       | Portugal       | 23424925       | \n",
       "| Qatar          | Qatar          | 23424930       | \n",
       "| Philippines    | Philippines    | 23424934       | \n",
       "| Puerto Rico    | Puerto Rico    | 23424935       | \n",
       "| Russia         | Russia         | 23424936       | \n",
       "| Saudi Arabia   | Saudi Arabia   | 23424938       | \n",
       "| South Africa   | South Africa   | 23424942       | \n",
       "| Singapore      | Singapore      | 23424948       | \n",
       "| Spain          | Spain          | 23424950       | \n",
       "| Sweden         | Sweden         | 23424954       | \n",
       "| Switzerland    | Switzerland    | 23424957       | \n",
       "| Thailand       | Thailand       | 23424960       | \n",
       "| Turkey         | Turkey         | 23424969       | \n",
       "| United Kingdom | United Kingdom | 23424975       | \n",
       "| Ukraine        | Ukraine        | 23424976       | \n",
       "| United States  | United States  | 23424977       | \n",
       "| Venezuela      | Venezuela      | 23424982       | \n",
       "| Vietnam        | Vietnam        | 23424984       | \n",
       "| Petaling       | Malaysia       | 56013632       | \n",
       "| Hulu Langat    | Malaysia       | 56013645       | \n",
       "| Ahsa           | Saudi Arabia   | 56120136       | \n",
       "| Okayama        | Japan          | 90036018       | \n",
       "\n",
       "\n"
      ],
      "text/plain": [
       "    name           country        woeid   \n",
       "1   Worldwide                     1       \n",
       "2   Winnipeg       Canada         2972    \n",
       "3   Ottawa         Canada         3369    \n",
       "4   Quebec         Canada         3444    \n",
       "5   Montreal       Canada         3534    \n",
       "6   Toronto        Canada         4118    \n",
       "7   Edmonton       Canada         8676    \n",
       "8   Calgary        Canada         8775    \n",
       "9   Vancouver      Canada         9807    \n",
       "10  Birmingham     United Kingdom 12723   \n",
       "11  Blackpool      United Kingdom 12903   \n",
       "12  Bournemouth    United Kingdom 13383   \n",
       "13  Brighton       United Kingdom 13911   \n",
       "14  Bristol        United Kingdom 13963   \n",
       "15  Cardiff        United Kingdom 15127   \n",
       "16  Coventry       United Kingdom 17044   \n",
       "17  Derby          United Kingdom 18114   \n",
       "18  Edinburgh      United Kingdom 19344   \n",
       "19  Glasgow        United Kingdom 21125   \n",
       "20  Hull           United Kingdom 25211   \n",
       "21  Leeds          United Kingdom 26042   \n",
       "22  Leicester      United Kingdom 26062   \n",
       "23  Liverpool      United Kingdom 26734   \n",
       "24  Manchester     United Kingdom 28218   \n",
       "25  Middlesbrough  United Kingdom 28869   \n",
       "26  Newcastle      United Kingdom 30079   \n",
       "27  Nottingham     United Kingdom 30720   \n",
       "28  Plymouth       United Kingdom 32185   \n",
       "29  Portsmouth     United Kingdom 32452   \n",
       "30  Preston        United Kingdom 32566   \n",
       "⋮   ⋮              ⋮              ⋮       \n",
       "438 Nigeria        Nigeria        23424908\n",
       "439 Netherlands    Netherlands    23424909\n",
       "440 Norway         Norway         23424910\n",
       "441 New Zealand    New Zealand    23424916\n",
       "442 Peru           Peru           23424919\n",
       "443 Pakistan       Pakistan       23424922\n",
       "444 Poland         Poland         23424923\n",
       "445 Panama         Panama         23424924\n",
       "446 Portugal       Portugal       23424925\n",
       "447 Qatar          Qatar          23424930\n",
       "448 Philippines    Philippines    23424934\n",
       "449 Puerto Rico    Puerto Rico    23424935\n",
       "450 Russia         Russia         23424936\n",
       "451 Saudi Arabia   Saudi Arabia   23424938\n",
       "452 South Africa   South Africa   23424942\n",
       "453 Singapore      Singapore      23424948\n",
       "454 Spain          Spain          23424950\n",
       "455 Sweden         Sweden         23424954\n",
       "456 Switzerland    Switzerland    23424957\n",
       "457 Thailand       Thailand       23424960\n",
       "458 Turkey         Turkey         23424969\n",
       "459 United Kingdom United Kingdom 23424975\n",
       "460 Ukraine        Ukraine        23424976\n",
       "461 United States  United States  23424977\n",
       "462 Venezuela      Venezuela      23424982\n",
       "463 Vietnam        Vietnam        23424984\n",
       "464 Petaling       Malaysia       56013632\n",
       "465 Hulu Langat    Malaysia       56013645\n",
       "466 Ahsa           Saudi Arabia   56120136\n",
       "467 Okayama        Japan          90036018"
      ]
     },
     "metadata": {},
     "output_type": "display_data"
    },
    {
     "data": {
      "text/html": [
       "<table>\n",
       "<thead><tr><th scope=col>name</th><th scope=col>url</th><th scope=col>query</th><th scope=col>woeid</th></tr></thead>\n",
       "<tbody>\n",
       "\t<tr><td>#bbcqt                                                    </td><td>http://twitter.com/search?q=%23bbcqt                      </td><td>%23bbcqt                                                  </td><td>28218                                                     </td></tr>\n",
       "\t<tr><td>#CelebsGoDating                                           </td><td>http://twitter.com/search?q=%23CelebsGoDating             </td><td>%23CelebsGoDating                                         </td><td>28218                                                     </td></tr>\n",
       "\t<tr><td>#TrumpPresser                                             </td><td>http://twitter.com/search?q=%23TrumpPresser               </td><td>%23TrumpPresser                                           </td><td>28218                                                     </td></tr>\n",
       "\t<tr><td>St Etienne                                                </td><td>http://twitter.com/search?q=%22St+Etienne%22              </td><td>%22St+Etienne%22                                          </td><td>28218                                                     </td></tr>\n",
       "\t<tr><td>Europa League                                             </td><td>http://twitter.com/search?q=%22Europa+League%22           </td><td>%22Europa+League%22                                       </td><td>28218                                                     </td></tr>\n",
       "\t<tr><td>#4OclockClub                                              </td><td>http://twitter.com/search?q=%234OclockClub                </td><td>%234OclockClub                                            </td><td>28218                                                     </td></tr>\n",
       "\t<tr><td>#bkchatldn                                                </td><td>http://twitter.com/search?q=%23bkchatldn                  </td><td>%23bkchatldn                                              </td><td>28218                                                     </td></tr>\n",
       "\t<tr><td>Tony Blair                                                </td><td>http://twitter.com/search?q=%22Tony+Blair%22              </td><td>%22Tony+Blair%22                                          </td><td>28218                                                     </td></tr>\n",
       "\t<tr><td>XOYO                                                      </td><td>http://twitter.com/search?q=XOYO                          </td><td>XOYO                                                      </td><td>28218                                                     </td></tr>\n",
       "\t<tr><td>EXORCIST                                                  </td><td>http://twitter.com/search?q=EXORCIST                      </td><td>EXORCIST                                                  </td><td>28218                                                     </td></tr>\n",
       "\t<tr><td>Bella Thorne                                              </td><td>http://twitter.com/search?q=%22Bella+Thorne%22            </td><td>%22Bella+Thorne%22                                        </td><td>28218                                                     </td></tr>\n",
       "\t<tr><td>Arsenal                                                   </td><td>http://twitter.com/search?q=Arsenal                       </td><td>Arsenal                                                   </td><td>28218                                                     </td></tr>\n",
       "\t<tr><td>Mark Clattenburg                                          </td><td>http://twitter.com/search?q=%22Mark+Clattenburg%22        </td><td>%22Mark+Clattenburg%22                                    </td><td>28218                                                     </td></tr>\n",
       "\t<tr><td>Gent                                                      </td><td>http://twitter.com/search?q=Gent                          </td><td>Gent                                                      </td><td>28218                                                     </td></tr>\n",
       "\t<tr><td>Bayern                                                    </td><td>http://twitter.com/search?q=Bayern                        </td><td>Bayern                                                    </td><td>28218                                                     </td></tr>\n",
       "\t<tr><td>June Brown                                                </td><td>http://twitter.com/search?q=%22June+Brown%22              </td><td>%22June+Brown%22                                          </td><td>28218                                                     </td></tr>\n",
       "\t<tr><td>Zlatan                                                    </td><td>http://twitter.com/search?q=Zlatan                        </td><td>Zlatan                                                    </td><td>28218                                                     </td></tr>\n",
       "\t<tr><td>Pogba                                                     </td><td>http://twitter.com/search?q=Pogba                         </td><td>Pogba                                                     </td><td>28218                                                     </td></tr>\n",
       "\t<tr><td>Love Actually                                             </td><td>http://twitter.com/search?q=%22Love+Actually%22           </td><td>%22Love+Actually%22                                       </td><td>28218                                                     </td></tr>\n",
       "\t<tr><td>Linkin Park                                               </td><td>http://twitter.com/search?q=%22Linkin+Park%22             </td><td>%22Linkin+Park%22                                         </td><td>28218                                                     </td></tr>\n",
       "\t<tr><td>Rashford                                                  </td><td>http://twitter.com/search?q=Rashford                      </td><td>Rashford                                                  </td><td>28218                                                     </td></tr>\n",
       "\t<tr><td>#PresidentialTVShows                                      </td><td>http://twitter.com/search?q=%23PresidentialTVShows        </td><td>%23PresidentialTVShows                                    </td><td>28218                                                     </td></tr>\n",
       "\t<tr><td>#PlayingNow                                               </td><td>http://twitter.com/search?q=%23PlayingNow                 </td><td>%23PlayingNow                                             </td><td>28218                                                     </td></tr>\n",
       "\t<tr><td>#PokemonGO                                                </td><td>http://twitter.com/search?q=%23PokemonGO                  </td><td>%23PokemonGO                                              </td><td>28218                                                     </td></tr>\n",
       "\t<tr><td>#BuyLoveIncredibleOnItunes                                </td><td>http://twitter.com/search?q=%23BuyLoveIncredibleOnItunes  </td><td>%23BuyLoveIncredibleOnItunes                              </td><td>28218                                                     </td></tr>\n",
       "\t<tr><td>#HappyBirthdayEdSheeran                                   </td><td>http://twitter.com/search?q=%23HappyBirthdayEdSheeran     </td><td>%23HappyBirthdayEdSheeran                                 </td><td>28218                                                     </td></tr>\n",
       "\t<tr><td>#schooltvorfilms                                          </td><td>http://twitter.com/search?q=%23schooltvorfilms            </td><td>%23schooltvorfilms                                        </td><td>28218                                                     </td></tr>\n",
       "\t<tr><td>#memphisopen                                              </td><td>http://twitter.com/search?q=%23memphisopen                </td><td>%23memphisopen                                            </td><td>28218                                                     </td></tr>\n",
       "\t<tr><td>#hurtbae                                                  </td><td>http://twitter.com/search?q=%23hurtbae                    </td><td>%23hurtbae                                                </td><td>28218                                                     </td></tr>\n",
       "\t<tr><td>#vote17                                                   </td><td>http://twitter.com/search?q=%23vote17                     </td><td>%23vote17                                                 </td><td>28218                                                     </td></tr>\n",
       "\t<tr><td>#ReleaseTheHounds                                         </td><td>http://twitter.com/search?q=%23ReleaseTheHounds           </td><td>%23ReleaseTheHounds                                       </td><td>28218                                                     </td></tr>\n",
       "\t<tr><td>#Newsnight                                                </td><td>http://twitter.com/search?q=%23Newsnight                  </td><td>%23Newsnight                                              </td><td>28218                                                     </td></tr>\n",
       "\t<tr><td>#potterythrowdown                                         </td><td>http://twitter.com/search?q=%23potterythrowdown           </td><td>%23potterythrowdown                                       </td><td>28218                                                     </td></tr>\n",
       "\t<tr><td>#vitaminD                                                 </td><td>http://twitter.com/search?q=%23vitaminD                   </td><td>%23vitaminD                                               </td><td>28218                                                     </td></tr>\n",
       "\t<tr><td>#CarpenterFilmTitles                                      </td><td>http://twitter.com/search?q=%23CarpenterFilmTitles        </td><td>%23CarpenterFilmTitles                                    </td><td>28218                                                     </td></tr>\n",
       "\t<tr><td>#LoveTheDarts                                             </td><td>http://twitter.com/search?q=%23LoveTheDarts               </td><td>%23LoveTheDarts                                           </td><td>28218                                                     </td></tr>\n",
       "\t<tr><td>#deathinparadise                                          </td><td>http://twitter.com/search?q=%23deathinparadise            </td><td>%23deathinparadise                                        </td><td>28218                                                     </td></tr>\n",
       "\t<tr><td>#opencoop                                                 </td><td>http://twitter.com/search?q=%23opencoop                   </td><td>%23opencoop                                               </td><td>28218                                                     </td></tr>\n",
       "\t<tr><td>#GreatBritishBenefitsHandout                              </td><td>http://twitter.com/search?q=%23GreatBritishBenefitsHandout</td><td>%23GreatBritishBenefitsHandout                            </td><td>28218                                                     </td></tr>\n",
       "\t<tr><td>#NMEAwards                                                </td><td>http://twitter.com/search?q=%23NMEAwards                  </td><td>%23NMEAwards                                              </td><td>28218                                                     </td></tr>\n",
       "\t<tr><td>#SLHudSal                                                 </td><td>http://twitter.com/search?q=%23SLHudSal                   </td><td>%23SLHudSal                                               </td><td>28218                                                     </td></tr>\n",
       "\t<tr><td>#folklorethursday                                         </td><td>http://twitter.com/search?q=%23folklorethursday           </td><td>%23folklorethursday                                       </td><td>28218                                                     </td></tr>\n",
       "\t<tr><td>#askpaulnuttall                                           </td><td>http://twitter.com/search?q=%23askpaulnuttall             </td><td>%23askpaulnuttall                                         </td><td>28218                                                     </td></tr>\n",
       "\t<tr><td>#supervet                                                 </td><td>http://twitter.com/search?q=%23supervet                   </td><td>%23supervet                                               </td><td>28218                                                     </td></tr>\n",
       "\t<tr><td>#Sehwan                                                   </td><td>http://twitter.com/search?q=%23Sehwan                     </td><td>%23Sehwan                                                 </td><td>28218                                                     </td></tr>\n",
       "\t<tr><td>#Synod                                                    </td><td>http://twitter.com/search?q=%23Synod                      </td><td>%23Synod                                                  </td><td>28218                                                     </td></tr>\n",
       "\t<tr><td>#TheChase                                                 </td><td>http://twitter.com/search?q=%23TheChase                   </td><td>%23TheChase                                               </td><td>28218                                                     </td></tr>\n",
       "\t<tr><td>#ItAintMe                                                 </td><td>http://twitter.com/search?q=%23ItAintMe                   </td><td>%23ItAintMe                                               </td><td>28218                                                     </td></tr>\n",
       "</tbody>\n",
       "</table>\n"
      ],
      "text/latex": [
       "\\begin{tabular}{r|llll}\n",
       " name & url & query & woeid\\\\\n",
       "\\hline\n",
       "\t \\#bbcqt                                                     & http://twitter.com/search?q=\\%23bbcqt                       & \\%23bbcqt                                                   & 28218                                                       \\\\\n",
       "\t \\#CelebsGoDating                                            & http://twitter.com/search?q=\\%23CelebsGoDating              & \\%23CelebsGoDating                                          & 28218                                                       \\\\\n",
       "\t \\#TrumpPresser                                              & http://twitter.com/search?q=\\%23TrumpPresser                & \\%23TrumpPresser                                            & 28218                                                       \\\\\n",
       "\t St Etienne                                                     & http://twitter.com/search?q=\\%22St+Etienne\\%22               & \\%22St+Etienne\\%22                                           & 28218                                                         \\\\\n",
       "\t Europa League                                                  & http://twitter.com/search?q=\\%22Europa+League\\%22            & \\%22Europa+League\\%22                                        & 28218                                                         \\\\\n",
       "\t \\#4OclockClub                                               & http://twitter.com/search?q=\\%234OclockClub                 & \\%234OclockClub                                             & 28218                                                       \\\\\n",
       "\t \\#bkchatldn                                                 & http://twitter.com/search?q=\\%23bkchatldn                   & \\%23bkchatldn                                               & 28218                                                       \\\\\n",
       "\t Tony Blair                                                     & http://twitter.com/search?q=\\%22Tony+Blair\\%22               & \\%22Tony+Blair\\%22                                           & 28218                                                         \\\\\n",
       "\t XOYO                                                       & http://twitter.com/search?q=XOYO                           & XOYO                                                       & 28218                                                     \\\\\n",
       "\t EXORCIST                                                   & http://twitter.com/search?q=EXORCIST                       & EXORCIST                                                   & 28218                                                     \\\\\n",
       "\t Bella Thorne                                                   & http://twitter.com/search?q=\\%22Bella+Thorne\\%22             & \\%22Bella+Thorne\\%22                                         & 28218                                                         \\\\\n",
       "\t Arsenal                                                    & http://twitter.com/search?q=Arsenal                        & Arsenal                                                    & 28218                                                     \\\\\n",
       "\t Mark Clattenburg                                               & http://twitter.com/search?q=\\%22Mark+Clattenburg\\%22         & \\%22Mark+Clattenburg\\%22                                     & 28218                                                         \\\\\n",
       "\t Gent                                                       & http://twitter.com/search?q=Gent                           & Gent                                                       & 28218                                                     \\\\\n",
       "\t Bayern                                                     & http://twitter.com/search?q=Bayern                         & Bayern                                                     & 28218                                                     \\\\\n",
       "\t June Brown                                                     & http://twitter.com/search?q=\\%22June+Brown\\%22               & \\%22June+Brown\\%22                                           & 28218                                                         \\\\\n",
       "\t Zlatan                                                     & http://twitter.com/search?q=Zlatan                         & Zlatan                                                     & 28218                                                     \\\\\n",
       "\t Pogba                                                      & http://twitter.com/search?q=Pogba                          & Pogba                                                      & 28218                                                     \\\\\n",
       "\t Love Actually                                                  & http://twitter.com/search?q=\\%22Love+Actually\\%22            & \\%22Love+Actually\\%22                                        & 28218                                                         \\\\\n",
       "\t Linkin Park                                                    & http://twitter.com/search?q=\\%22Linkin+Park\\%22              & \\%22Linkin+Park\\%22                                          & 28218                                                         \\\\\n",
       "\t Rashford                                                   & http://twitter.com/search?q=Rashford                       & Rashford                                                   & 28218                                                     \\\\\n",
       "\t \\#PresidentialTVShows                                       & http://twitter.com/search?q=\\%23PresidentialTVShows         & \\%23PresidentialTVShows                                     & 28218                                                       \\\\\n",
       "\t \\#PlayingNow                                                & http://twitter.com/search?q=\\%23PlayingNow                  & \\%23PlayingNow                                              & 28218                                                       \\\\\n",
       "\t \\#PokemonGO                                                 & http://twitter.com/search?q=\\%23PokemonGO                   & \\%23PokemonGO                                               & 28218                                                       \\\\\n",
       "\t \\#BuyLoveIncredibleOnItunes                                 & http://twitter.com/search?q=\\%23BuyLoveIncredibleOnItunes   & \\%23BuyLoveIncredibleOnItunes                               & 28218                                                       \\\\\n",
       "\t \\#HappyBirthdayEdSheeran                                    & http://twitter.com/search?q=\\%23HappyBirthdayEdSheeran      & \\%23HappyBirthdayEdSheeran                                  & 28218                                                       \\\\\n",
       "\t \\#schooltvorfilms                                           & http://twitter.com/search?q=\\%23schooltvorfilms             & \\%23schooltvorfilms                                         & 28218                                                       \\\\\n",
       "\t \\#memphisopen                                               & http://twitter.com/search?q=\\%23memphisopen                 & \\%23memphisopen                                             & 28218                                                       \\\\\n",
       "\t \\#hurtbae                                                   & http://twitter.com/search?q=\\%23hurtbae                     & \\%23hurtbae                                                 & 28218                                                       \\\\\n",
       "\t \\#vote17                                                    & http://twitter.com/search?q=\\%23vote17                      & \\%23vote17                                                  & 28218                                                       \\\\\n",
       "\t \\#ReleaseTheHounds                                          & http://twitter.com/search?q=\\%23ReleaseTheHounds            & \\%23ReleaseTheHounds                                        & 28218                                                       \\\\\n",
       "\t \\#Newsnight                                                 & http://twitter.com/search?q=\\%23Newsnight                   & \\%23Newsnight                                               & 28218                                                       \\\\\n",
       "\t \\#potterythrowdown                                          & http://twitter.com/search?q=\\%23potterythrowdown            & \\%23potterythrowdown                                        & 28218                                                       \\\\\n",
       "\t \\#vitaminD                                                  & http://twitter.com/search?q=\\%23vitaminD                    & \\%23vitaminD                                                & 28218                                                       \\\\\n",
       "\t \\#CarpenterFilmTitles                                       & http://twitter.com/search?q=\\%23CarpenterFilmTitles         & \\%23CarpenterFilmTitles                                     & 28218                                                       \\\\\n",
       "\t \\#LoveTheDarts                                              & http://twitter.com/search?q=\\%23LoveTheDarts                & \\%23LoveTheDarts                                            & 28218                                                       \\\\\n",
       "\t \\#deathinparadise                                           & http://twitter.com/search?q=\\%23deathinparadise             & \\%23deathinparadise                                         & 28218                                                       \\\\\n",
       "\t \\#opencoop                                                  & http://twitter.com/search?q=\\%23opencoop                    & \\%23opencoop                                                & 28218                                                       \\\\\n",
       "\t \\#GreatBritishBenefitsHandout                               & http://twitter.com/search?q=\\%23GreatBritishBenefitsHandout & \\%23GreatBritishBenefitsHandout                             & 28218                                                       \\\\\n",
       "\t \\#NMEAwards                                                 & http://twitter.com/search?q=\\%23NMEAwards                   & \\%23NMEAwards                                               & 28218                                                       \\\\\n",
       "\t \\#SLHudSal                                                  & http://twitter.com/search?q=\\%23SLHudSal                    & \\%23SLHudSal                                                & 28218                                                       \\\\\n",
       "\t \\#folklorethursday                                          & http://twitter.com/search?q=\\%23folklorethursday            & \\%23folklorethursday                                        & 28218                                                       \\\\\n",
       "\t \\#askpaulnuttall                                            & http://twitter.com/search?q=\\%23askpaulnuttall              & \\%23askpaulnuttall                                          & 28218                                                       \\\\\n",
       "\t \\#supervet                                                  & http://twitter.com/search?q=\\%23supervet                    & \\%23supervet                                                & 28218                                                       \\\\\n",
       "\t \\#Sehwan                                                    & http://twitter.com/search?q=\\%23Sehwan                      & \\%23Sehwan                                                  & 28218                                                       \\\\\n",
       "\t \\#Synod                                                     & http://twitter.com/search?q=\\%23Synod                       & \\%23Synod                                                   & 28218                                                       \\\\\n",
       "\t \\#TheChase                                                  & http://twitter.com/search?q=\\%23TheChase                    & \\%23TheChase                                                & 28218                                                       \\\\\n",
       "\t \\#ItAintMe                                                  & http://twitter.com/search?q=\\%23ItAintMe                    & \\%23ItAintMe                                                & 28218                                                       \\\\\n",
       "\\end{tabular}\n"
      ],
      "text/markdown": [
       "\n",
       "name | url | query | woeid | \n",
       "|---|---|---|---|---|---|---|---|---|---|---|---|---|---|---|---|---|---|---|---|---|---|---|---|---|---|---|---|---|---|---|---|---|---|---|---|---|---|---|---|---|---|---|---|---|---|---|---|\n",
       "| #bbcqt                                                     | http://twitter.com/search?q=%23bbcqt                       | %23bbcqt                                                   | 28218                                                      | \n",
       "| #CelebsGoDating                                            | http://twitter.com/search?q=%23CelebsGoDating              | %23CelebsGoDating                                          | 28218                                                      | \n",
       "| #TrumpPresser                                              | http://twitter.com/search?q=%23TrumpPresser                | %23TrumpPresser                                            | 28218                                                      | \n",
       "| St Etienne                                                 | http://twitter.com/search?q=%22St+Etienne%22               | %22St+Etienne%22                                           | 28218                                                      | \n",
       "| Europa League                                              | http://twitter.com/search?q=%22Europa+League%22            | %22Europa+League%22                                        | 28218                                                      | \n",
       "| #4OclockClub                                               | http://twitter.com/search?q=%234OclockClub                 | %234OclockClub                                             | 28218                                                      | \n",
       "| #bkchatldn                                                 | http://twitter.com/search?q=%23bkchatldn                   | %23bkchatldn                                               | 28218                                                      | \n",
       "| Tony Blair                                                 | http://twitter.com/search?q=%22Tony+Blair%22               | %22Tony+Blair%22                                           | 28218                                                      | \n",
       "| XOYO                                                       | http://twitter.com/search?q=XOYO                           | XOYO                                                       | 28218                                                      | \n",
       "| EXORCIST                                                   | http://twitter.com/search?q=EXORCIST                       | EXORCIST                                                   | 28218                                                      | \n",
       "| Bella Thorne                                               | http://twitter.com/search?q=%22Bella+Thorne%22             | %22Bella+Thorne%22                                         | 28218                                                      | \n",
       "| Arsenal                                                    | http://twitter.com/search?q=Arsenal                        | Arsenal                                                    | 28218                                                      | \n",
       "| Mark Clattenburg                                           | http://twitter.com/search?q=%22Mark+Clattenburg%22         | %22Mark+Clattenburg%22                                     | 28218                                                      | \n",
       "| Gent                                                       | http://twitter.com/search?q=Gent                           | Gent                                                       | 28218                                                      | \n",
       "| Bayern                                                     | http://twitter.com/search?q=Bayern                         | Bayern                                                     | 28218                                                      | \n",
       "| June Brown                                                 | http://twitter.com/search?q=%22June+Brown%22               | %22June+Brown%22                                           | 28218                                                      | \n",
       "| Zlatan                                                     | http://twitter.com/search?q=Zlatan                         | Zlatan                                                     | 28218                                                      | \n",
       "| Pogba                                                      | http://twitter.com/search?q=Pogba                          | Pogba                                                      | 28218                                                      | \n",
       "| Love Actually                                              | http://twitter.com/search?q=%22Love+Actually%22            | %22Love+Actually%22                                        | 28218                                                      | \n",
       "| Linkin Park                                                | http://twitter.com/search?q=%22Linkin+Park%22              | %22Linkin+Park%22                                          | 28218                                                      | \n",
       "| Rashford                                                   | http://twitter.com/search?q=Rashford                       | Rashford                                                   | 28218                                                      | \n",
       "| #PresidentialTVShows                                       | http://twitter.com/search?q=%23PresidentialTVShows         | %23PresidentialTVShows                                     | 28218                                                      | \n",
       "| #PlayingNow                                                | http://twitter.com/search?q=%23PlayingNow                  | %23PlayingNow                                              | 28218                                                      | \n",
       "| #PokemonGO                                                 | http://twitter.com/search?q=%23PokemonGO                   | %23PokemonGO                                               | 28218                                                      | \n",
       "| #BuyLoveIncredibleOnItunes                                 | http://twitter.com/search?q=%23BuyLoveIncredibleOnItunes   | %23BuyLoveIncredibleOnItunes                               | 28218                                                      | \n",
       "| #HappyBirthdayEdSheeran                                    | http://twitter.com/search?q=%23HappyBirthdayEdSheeran      | %23HappyBirthdayEdSheeran                                  | 28218                                                      | \n",
       "| #schooltvorfilms                                           | http://twitter.com/search?q=%23schooltvorfilms             | %23schooltvorfilms                                         | 28218                                                      | \n",
       "| #memphisopen                                               | http://twitter.com/search?q=%23memphisopen                 | %23memphisopen                                             | 28218                                                      | \n",
       "| #hurtbae                                                   | http://twitter.com/search?q=%23hurtbae                     | %23hurtbae                                                 | 28218                                                      | \n",
       "| #vote17                                                    | http://twitter.com/search?q=%23vote17                      | %23vote17                                                  | 28218                                                      | \n",
       "| #ReleaseTheHounds                                          | http://twitter.com/search?q=%23ReleaseTheHounds            | %23ReleaseTheHounds                                        | 28218                                                      | \n",
       "| #Newsnight                                                 | http://twitter.com/search?q=%23Newsnight                   | %23Newsnight                                               | 28218                                                      | \n",
       "| #potterythrowdown                                          | http://twitter.com/search?q=%23potterythrowdown            | %23potterythrowdown                                        | 28218                                                      | \n",
       "| #vitaminD                                                  | http://twitter.com/search?q=%23vitaminD                    | %23vitaminD                                                | 28218                                                      | \n",
       "| #CarpenterFilmTitles                                       | http://twitter.com/search?q=%23CarpenterFilmTitles         | %23CarpenterFilmTitles                                     | 28218                                                      | \n",
       "| #LoveTheDarts                                              | http://twitter.com/search?q=%23LoveTheDarts                | %23LoveTheDarts                                            | 28218                                                      | \n",
       "| #deathinparadise                                           | http://twitter.com/search?q=%23deathinparadise             | %23deathinparadise                                         | 28218                                                      | \n",
       "| #opencoop                                                  | http://twitter.com/search?q=%23opencoop                    | %23opencoop                                                | 28218                                                      | \n",
       "| #GreatBritishBenefitsHandout                               | http://twitter.com/search?q=%23GreatBritishBenefitsHandout | %23GreatBritishBenefitsHandout                             | 28218                                                      | \n",
       "| #NMEAwards                                                 | http://twitter.com/search?q=%23NMEAwards                   | %23NMEAwards                                               | 28218                                                      | \n",
       "| #SLHudSal                                                  | http://twitter.com/search?q=%23SLHudSal                    | %23SLHudSal                                                | 28218                                                      | \n",
       "| #folklorethursday                                          | http://twitter.com/search?q=%23folklorethursday            | %23folklorethursday                                        | 28218                                                      | \n",
       "| #askpaulnuttall                                            | http://twitter.com/search?q=%23askpaulnuttall              | %23askpaulnuttall                                          | 28218                                                      | \n",
       "| #supervet                                                  | http://twitter.com/search?q=%23supervet                    | %23supervet                                                | 28218                                                      | \n",
       "| #Sehwan                                                    | http://twitter.com/search?q=%23Sehwan                      | %23Sehwan                                                  | 28218                                                      | \n",
       "| #Synod                                                     | http://twitter.com/search?q=%23Synod                       | %23Synod                                                   | 28218                                                      | \n",
       "| #TheChase                                                  | http://twitter.com/search?q=%23TheChase                    | %23TheChase                                                | 28218                                                      | \n",
       "| #ItAintMe                                                  | http://twitter.com/search?q=%23ItAintMe                    | %23ItAintMe                                                | 28218                                                      | \n",
       "\n",
       "\n"
      ],
      "text/plain": [
       "   name                        \n",
       "1  #bbcqt                      \n",
       "2  #CelebsGoDating             \n",
       "3  #TrumpPresser               \n",
       "4  St Etienne                  \n",
       "5  Europa League               \n",
       "6  #4OclockClub                \n",
       "7  #bkchatldn                  \n",
       "8  Tony Blair                  \n",
       "9  XOYO                        \n",
       "10 EXORCIST                    \n",
       "11 Bella Thorne                \n",
       "12 Arsenal                     \n",
       "13 Mark Clattenburg            \n",
       "14 Gent                        \n",
       "15 Bayern                      \n",
       "16 June Brown                  \n",
       "17 Zlatan                      \n",
       "18 Pogba                       \n",
       "19 Love Actually               \n",
       "20 Linkin Park                 \n",
       "21 Rashford                    \n",
       "22 #PresidentialTVShows        \n",
       "23 #PlayingNow                 \n",
       "24 #PokemonGO                  \n",
       "25 #BuyLoveIncredibleOnItunes  \n",
       "26 #HappyBirthdayEdSheeran     \n",
       "27 #schooltvorfilms            \n",
       "28 #memphisopen                \n",
       "29 #hurtbae                    \n",
       "30 #vote17                     \n",
       "31 #ReleaseTheHounds           \n",
       "32 #Newsnight                  \n",
       "33 #potterythrowdown           \n",
       "34 #vitaminD                   \n",
       "35 #CarpenterFilmTitles        \n",
       "36 #LoveTheDarts               \n",
       "37 #deathinparadise            \n",
       "38 #opencoop                   \n",
       "39 #GreatBritishBenefitsHandout\n",
       "40 #NMEAwards                  \n",
       "41 #SLHudSal                   \n",
       "42 #folklorethursday           \n",
       "43 #askpaulnuttall             \n",
       "44 #supervet                   \n",
       "45 #Sehwan                     \n",
       "46 #Synod                      \n",
       "47 #TheChase                   \n",
       "48 #ItAintMe                   \n",
       "   url                                                       \n",
       "1  http://twitter.com/search?q=%23bbcqt                      \n",
       "2  http://twitter.com/search?q=%23CelebsGoDating             \n",
       "3  http://twitter.com/search?q=%23TrumpPresser               \n",
       "4  http://twitter.com/search?q=%22St+Etienne%22              \n",
       "5  http://twitter.com/search?q=%22Europa+League%22           \n",
       "6  http://twitter.com/search?q=%234OclockClub                \n",
       "7  http://twitter.com/search?q=%23bkchatldn                  \n",
       "8  http://twitter.com/search?q=%22Tony+Blair%22              \n",
       "9  http://twitter.com/search?q=XOYO                          \n",
       "10 http://twitter.com/search?q=EXORCIST                      \n",
       "11 http://twitter.com/search?q=%22Bella+Thorne%22            \n",
       "12 http://twitter.com/search?q=Arsenal                       \n",
       "13 http://twitter.com/search?q=%22Mark+Clattenburg%22        \n",
       "14 http://twitter.com/search?q=Gent                          \n",
       "15 http://twitter.com/search?q=Bayern                        \n",
       "16 http://twitter.com/search?q=%22June+Brown%22              \n",
       "17 http://twitter.com/search?q=Zlatan                        \n",
       "18 http://twitter.com/search?q=Pogba                         \n",
       "19 http://twitter.com/search?q=%22Love+Actually%22           \n",
       "20 http://twitter.com/search?q=%22Linkin+Park%22             \n",
       "21 http://twitter.com/search?q=Rashford                      \n",
       "22 http://twitter.com/search?q=%23PresidentialTVShows        \n",
       "23 http://twitter.com/search?q=%23PlayingNow                 \n",
       "24 http://twitter.com/search?q=%23PokemonGO                  \n",
       "25 http://twitter.com/search?q=%23BuyLoveIncredibleOnItunes  \n",
       "26 http://twitter.com/search?q=%23HappyBirthdayEdSheeran     \n",
       "27 http://twitter.com/search?q=%23schooltvorfilms            \n",
       "28 http://twitter.com/search?q=%23memphisopen                \n",
       "29 http://twitter.com/search?q=%23hurtbae                    \n",
       "30 http://twitter.com/search?q=%23vote17                     \n",
       "31 http://twitter.com/search?q=%23ReleaseTheHounds           \n",
       "32 http://twitter.com/search?q=%23Newsnight                  \n",
       "33 http://twitter.com/search?q=%23potterythrowdown           \n",
       "34 http://twitter.com/search?q=%23vitaminD                   \n",
       "35 http://twitter.com/search?q=%23CarpenterFilmTitles        \n",
       "36 http://twitter.com/search?q=%23LoveTheDarts               \n",
       "37 http://twitter.com/search?q=%23deathinparadise            \n",
       "38 http://twitter.com/search?q=%23opencoop                   \n",
       "39 http://twitter.com/search?q=%23GreatBritishBenefitsHandout\n",
       "40 http://twitter.com/search?q=%23NMEAwards                  \n",
       "41 http://twitter.com/search?q=%23SLHudSal                   \n",
       "42 http://twitter.com/search?q=%23folklorethursday           \n",
       "43 http://twitter.com/search?q=%23askpaulnuttall             \n",
       "44 http://twitter.com/search?q=%23supervet                   \n",
       "45 http://twitter.com/search?q=%23Sehwan                     \n",
       "46 http://twitter.com/search?q=%23Synod                      \n",
       "47 http://twitter.com/search?q=%23TheChase                   \n",
       "48 http://twitter.com/search?q=%23ItAintMe                   \n",
       "   query                          woeid\n",
       "1  %23bbcqt                       28218\n",
       "2  %23CelebsGoDating              28218\n",
       "3  %23TrumpPresser                28218\n",
       "4  %22St+Etienne%22               28218\n",
       "5  %22Europa+League%22            28218\n",
       "6  %234OclockClub                 28218\n",
       "7  %23bkchatldn                   28218\n",
       "8  %22Tony+Blair%22               28218\n",
       "9  XOYO                           28218\n",
       "10 EXORCIST                       28218\n",
       "11 %22Bella+Thorne%22             28218\n",
       "12 Arsenal                        28218\n",
       "13 %22Mark+Clattenburg%22         28218\n",
       "14 Gent                           28218\n",
       "15 Bayern                         28218\n",
       "16 %22June+Brown%22               28218\n",
       "17 Zlatan                         28218\n",
       "18 Pogba                          28218\n",
       "19 %22Love+Actually%22            28218\n",
       "20 %22Linkin+Park%22              28218\n",
       "21 Rashford                       28218\n",
       "22 %23PresidentialTVShows         28218\n",
       "23 %23PlayingNow                  28218\n",
       "24 %23PokemonGO                   28218\n",
       "25 %23BuyLoveIncredibleOnItunes   28218\n",
       "26 %23HappyBirthdayEdSheeran      28218\n",
       "27 %23schooltvorfilms             28218\n",
       "28 %23memphisopen                 28218\n",
       "29 %23hurtbae                     28218\n",
       "30 %23vote17                      28218\n",
       "31 %23ReleaseTheHounds            28218\n",
       "32 %23Newsnight                   28218\n",
       "33 %23potterythrowdown            28218\n",
       "34 %23vitaminD                    28218\n",
       "35 %23CarpenterFilmTitles         28218\n",
       "36 %23LoveTheDarts                28218\n",
       "37 %23deathinparadise             28218\n",
       "38 %23opencoop                    28218\n",
       "39 %23GreatBritishBenefitsHandout 28218\n",
       "40 %23NMEAwards                   28218\n",
       "41 %23SLHudSal                    28218\n",
       "42 %23folklorethursday            28218\n",
       "43 %23askpaulnuttall              28218\n",
       "44 %23supervet                    28218\n",
       "45 %23Sehwan                      28218\n",
       "46 %23Synod                       28218\n",
       "47 %23TheChase                    28218\n",
       "48 %23ItAintMe                    28218"
      ]
     },
     "metadata": {},
     "output_type": "display_data"
    },
    {
     "data": {
      "text/plain": [
       "[1] \"ashwin_mufc\""
      ]
     },
     "metadata": {},
     "output_type": "display_data"
    }
   ],
   "source": [
    "availableTrendLocations()\n",
    "getTrends(28218)\n",
    "getUser('ashwin_mufc')"
   ]
  },
  {
   "cell_type": "code",
   "execution_count": 6,
   "metadata": {
    "collapsed": false
   },
   "outputs": [
    {
     "data": {
      "text/plain": [
       "[[1]]\n",
       "[1] \"PabloLopezSe1: RT @episod: It's 2011. I work at Twitter. And so let's go kick some ass.\"\n",
       "\n",
       "[[2]]\n",
       "[1] \"M260Meburgess: RT @episod: It's 2011. I work at Twitter. And so let's go kick some ass.\"\n",
       "\n",
       "[[3]]\n",
       "[1] \"StanislavEscimo: RT @episod: It's 2011. I work at Twitter. And so let's go kick some ass.\"\n",
       "\n",
       "[[4]]\n",
       "[1] \"eseimbecil: RT @episod: It's 2011. I work at Twitter. And so let's go kick some ass.\"\n"
      ]
     },
     "metadata": {},
     "output_type": "display_data"
    },
    {
     "name": "stdout",
     "output_type": "stream",
     "text": [
      "[1] \"----\"\n"
     ]
    },
    {
     "data": {
      "text/plain": [
       "[1] \"tonystubblebine: finished analyzing smam/ac success rates\""
      ]
     },
     "metadata": {},
     "output_type": "display_data"
    }
   ],
   "source": [
    "retweets('21947795900469248', n = 5)\n",
    "print('----')\n",
    "showStatus('123')"
   ]
  },
  {
   "cell_type": "code",
   "execution_count": 7,
   "metadata": {
    "collapsed": false
   },
   "outputs": [
    {
     "data": {
      "text/plain": [
       "[[1]]\n",
       "[1] \"ashwin_mufc: Tweeted from Jupyter using TwitteR package in R #geekystuff\"\n",
       "\n",
       "[[2]]\n",
       "[1] \"ashwin_mufc: @panchalrohan714 bro &lt;3\"\n"
      ]
     },
     "metadata": {},
     "output_type": "display_data"
    },
    {
     "name": "stdout",
     "output_type": "stream",
     "text": [
      "[1] \"----\"\n"
     ]
    },
    {
     "data": {
      "text/plain": [
       "[[1]]\n",
       "[1] \"23starkapote: @DangareShreyas @ShitJokes @ashwin_mufc He's already in a big mess \\xed\\xa0\\xbd\\xed\\xb8\\x94\"\n",
       "\n",
       "[[2]]\n",
       "[1] \"DangareShreyas: @ShitJokes @23starkapote @ashwin_mufc gpya cha kay\"\n",
       "\n",
       "[[3]]\n",
       "[1] \"DangareShreyas: @ashwin_mufc @23starkapote @Footy_Jokes \\xed\\xa0\\xbd\\xed\\xb8\\x82\\xed\\xa0\\xbd\\xed\\xb8\\x82\\xed\\xa0\\xbd\\xed\\xb8\\x82\\xed\\xa0\\xbd\\xed\\xb8\\x82\\xed\\xa0\\xbd\\xed\\xb8\\x82\"\n",
       "\n",
       "[[4]]\n",
       "[1] \"23starkapote: @Footy_Jokes @ashwin_mufc @DangareShreyas Asfc boys troubling Shah after heavy dinner \\xed\\xa0\\xbd\\xed\\xb8\\x81\"\n",
       "\n",
       "[[5]]\n",
       "[1] \"23starkapote: @ashwin_mufc @DirtyFootbaIIer @DangareShreyas Shah making a complete and utter fool of himself \\xed\\xa0\\xbd\\xed\\xb8\\x81\\xed\\xa0\\xbd\\xed\\xb8\\x81\\xed\\xa0\\xbd\\xed\\xb8\\x81\"\n"
      ]
     },
     "metadata": {},
     "output_type": "display_data"
    },
    {
     "name": "stdout",
     "output_type": "stream",
     "text": [
      "[1] \"----\"\n"
     ]
    },
    {
     "data": {
      "text/plain": [
       "[[1]]\n",
       "[1] \"ashwin_mufc: It's happening yes! Paul Pogba welcome back!\"\n",
       "\n",
       "[[2]]\n",
       "[1] \"ashwin_mufc: Ryan Giggs tearing it apart in India #PremierFutsal\"\n",
       "\n",
       "[[3]]\n",
       "[1] \"ashwin_mufc: Bale is a better freekick taker than Ronaldo currently.\"\n",
       "\n",
       "[[4]]\n",
       "[1] \"ashwin_mufc: We believe in you Dave ❤ @D_DeGea\"\n",
       "\n",
       "[[5]]\n",
       "[1] \"ashwin_mufc: Can't wait for the Manchester Derby! Bring it on \\xed\\xa0\\xbd\\xed\\xb1\\x8a\"\n"
      ]
     },
     "metadata": {},
     "output_type": "display_data"
    }
   ],
   "source": [
    "userTimeline('ashwin_mufc', n=5, maxID=NULL, sinceID=NULL, includeRts=FALSE,excludeReplies=FALSE)\n",
    "print('----')\n",
    "mentions(n=5, maxID=NULL, sinceID=NULL)\n",
    "print('----')\n",
    "retweetsOfMe(n=5, maxID=NULL, sinceID=NULL)"
   ]
  },
  {
   "cell_type": "code",
   "execution_count": 8,
   "metadata": {
    "collapsed": false
   },
   "outputs": [
    {
     "data": {
      "text/plain": [
       "[1] \"ashwin_mufc: Tweeted from Jupyter using TwitteR package in R #geekystuff v2\""
      ]
     },
     "metadata": {},
     "output_type": "display_data"
    }
   ],
   "source": [
    "tweet('Tweeted from Jupyter using TwitteR package in R #geekystuff v2')"
   ]
  },
  {
   "cell_type": "code",
   "execution_count": 9,
   "metadata": {
    "collapsed": false
   },
   "outputs": [
    {
     "data": {
      "text/html": [
       "'@ashwin_mufc'"
      ],
      "text/latex": [
       "'@ashwin\\_mufc'"
      ],
      "text/markdown": [
       "'@ashwin_mufc'"
      ],
      "text/plain": [
       "[1] \"@ashwin_mufc\""
      ]
     },
     "metadata": {},
     "output_type": "display_data"
    }
   ],
   "source": [
    "us <- userFactory$new(screenName=\"@ashwin_mufc\", name=\"Ashwin\")\n",
    "us$getScreenName()"
   ]
  },
  {
   "cell_type": "code",
   "execution_count": 10,
   "metadata": {
    "collapsed": true
   },
   "outputs": [],
   "source": [
    "result <- searchTwitter(\"mufc\", n=20)"
   ]
  },
  {
   "cell_type": "code",
   "execution_count": 13,
   "metadata": {
    "collapsed": false
   },
   "outputs": [
    {
     "data": {
      "text/html": [
       "TRUE"
      ],
      "text/latex": [
       "TRUE"
      ],
      "text/markdown": [
       "TRUE"
      ],
      "text/plain": [
       "[1] TRUE"
      ]
     },
     "metadata": {},
     "output_type": "display_data"
    }
   ],
   "source": [
    "library(\"RMySQL\")\n",
    "register_sqlite_backend(\"db1\")\n",
    "store_tweets_db(result, table_name=\"mufctweets\")"
   ]
  },
  {
   "cell_type": "code",
   "execution_count": 14,
   "metadata": {
    "collapsed": false
   },
   "outputs": [
    {
     "data": {
      "text/plain": [
       "[[1]]\n",
       "[1] \"martinl_9: RT @ManUtd: Retweet to vote for @Ibra_official as #MUFC's Man of the Match against Saint-Etienne. https://t.co/UDLcQhZGRZ\"\n",
       "\n",
       "[[2]]\n",
       "[1] \"sholateeniola: RT @ManUtd: Retweet to vote for @Ibra_official as #MUFC's Man of the Match against Saint-Etienne. https://t.co/UDLcQhZGRZ\"\n",
       "\n",
       "[[3]]\n",
       "[1] \"lalneluxtravel: RT @paddyspower1: Paddypower 1 #football #nufc\\n#lufc #afc\\n#PremierLeague #mufc #LFC\\n#MCFC #AVFC #Spurs #EFC \\nBet £10 Get £30\\nClaim-&gt; https:…\"\n",
       "\n",
       "[[4]]\n",
       "[1] \"momog786: RT @ManUtd: Three goals, the match ball and tonight's star man for #MUFC - congratulations, @Ibra_official! https://t.co/rTZPFCVgle\"\n",
       "\n",
       "[[5]]\n",
       "[1] \"Adore__AustinBa: RT @petebetnow: Betfred Best Offer #RugbyLeague\\n#mufc #MCFC #LFC #WBA\\nBetfred Welcome Offer\\nBET £10 GET £60\\nin bonus funds Claim-&gt;https://t…\"\n",
       "\n",
       "[[6]]\n",
       "[1] \"midopido21: RT @vancole9: Zlatan making the no9 shirt look easy... Hattrick! @ManUtd ⚽️ #MUFC\"\n",
       "\n",
       "[[7]]\n",
       "[1] \"Nxzrvl: RT @ManUtd: FT: #MUFC 3 Saint-Etienne 0. @Ibra_official's hat-trick puts the Reds firmly in the driving seat ahead of next week's second le…\"\n",
       "\n",
       "[[8]]\n",
       "[1] \"chedy_Wang: RT @ManUtd: Early #MUFC team news ahead of the @EuropaLeague second leg clash v Saint-Etienne: https://t.co/ycweqecDZA https://t.co/31JtRgl…\"\n",
       "\n",
       "[[9]]\n",
       "[1] \"kunald2001: RT @ManUtd: Three tonight, 23 for the season - incredible! #MUFC #UEL https://t.co/bufvESDm2M\"\n",
       "\n",
       "[[10]]\n",
       "[1] \"ExplorerGina: RT @ChaskaBorek Winning one trophy is good. No matter what trophy it might be, you've got to take it. Sir Alex Ferguson MUFC ManUtd\"\n",
       "\n",
       "[[11]]\n",
       "[1] \"DangareShreyas: RT @Devils_Latest: Martial's stats vs Saint-Etienne:\\n\\n100% take-ons completed\\n5 take-ons\\n3 shots on target\\n1 chance created\\n\\n#MUFC\\nhttps://…\"\n",
       "\n",
       "[[12]]\n",
       "[1] \"helmy_zul07: RT @MUFCScoop: Zlatan Ibrahimovic Ig: \\\"First one but not the last one @ManUtd\\\" #MUFC https://t.co/SBs8toVqYB\"\n",
       "\n",
       "[[13]]\n",
       "[1] \"5alid__Mufc: الصلاة بعد الجمعة #صورة #الصلاة #الجمعة #نشر_سيرته https://t.co/mbKypETC5N #ﷺ\"\n",
       "\n",
       "[[14]]\n",
       "[1] \"BrianClarks1: RT @ChicharitoREDS: RT @ChaskaBorek Manchester United Goal Keepers Anders Lindegaard -Ben Amos - David De Gea https://t.co/CYUiouItV1 MUFC…\"\n",
       "\n",
       "[[15]]\n",
       "[1] \"thekwekugyan_03: RT @ManUtdUpdates_: Manchester United have kept 5 clean sheets in a row in all competitions for the first time since October-November 2015.…\"\n",
       "\n",
       "[[16]]\n",
       "[1] \"MJavoh: RT @carras16: @Ibra_official ⚽️⚽️⚽️\\nButs it's only half time... #MUFC https://t.co/x8q1YcVO6l\"\n",
       "\n",
       "[[17]]\n",
       "[1] \"MUFC_x_FANS: Manchester United news and transfer rumours live Zlatan Ibrahimovic and Blackburn updates https://t.co/sRxFWZtdn4 https://t.co/aN9VOR0lJa\"\n",
       "\n",
       "[[18]]\n",
       "[1] \"varidaaa_: RT @ManUtd: Three goals, the match ball and tonight's star man for #MUFC - congratulations, @Ibra_official! https://t.co/rTZPFCVgle\"\n",
       "\n",
       "[[19]]\n",
       "[1] \"mpadzly: RT @ManUtd: Retweet to vote for @Ibra_official as #MUFC's Man of the Match against Saint-Etienne. https://t.co/UDLcQhZGRZ\"\n",
       "\n",
       "[[20]]\n",
       "[1] \"vanMubsyn: RT @carras16: @Ibra_official ⚽️⚽️⚽️\\nButs it's only half time... #MUFC https://t.co/x8q1YcVO6l\"\n"
      ]
     },
     "metadata": {},
     "output_type": "display_data"
    }
   ],
   "source": [
    "load_tweets_db(as.data.frame = FALSE, table_name = \"mufctweets\")"
   ]
  },
  {
   "cell_type": "code",
   "execution_count": 15,
   "metadata": {
    "collapsed": false
   },
   "outputs": [
    {
     "data": {
      "text/html": [
       "'832457716513730560'"
      ],
      "text/latex": [
       "'832457716513730560'"
      ],
      "text/markdown": [
       "'832457716513730560'"
      ],
      "text/plain": [
       "[1] \"832457716513730560\""
      ]
     },
     "metadata": {},
     "output_type": "display_data"
    }
   ],
   "source": [
    "get_latest_tweet_id(table_name = \"mufctweets\")"
   ]
  },
  {
   "cell_type": "code",
   "execution_count": 16,
   "metadata": {
    "collapsed": false
   },
   "outputs": [
    {
     "data": {
      "text/html": [
       "1"
      ],
      "text/latex": [
       "1"
      ],
      "text/markdown": [
       "1"
      ],
      "text/plain": [
       "[1] 1"
      ]
     },
     "metadata": {},
     "output_type": "display_data"
    }
   ],
   "source": [
    "taskStatus(a <- 1, 'ashwin_mufc', msg=\"Hi\")"
   ]
  },
  {
   "cell_type": "code",
   "execution_count": null,
   "metadata": {
    "collapsed": true
   },
   "outputs": [],
   "source": []
  }
 ],
 "metadata": {
  "kernelspec": {
   "display_name": "R",
   "language": "R",
   "name": "ir"
  },
  "language_info": {
   "codemirror_mode": "r",
   "file_extension": ".r",
   "mimetype": "text/x-r-source",
   "name": "R",
   "pygments_lexer": "r",
   "version": "3.3.2"
  }
 },
 "nbformat": 4,
 "nbformat_minor": 2
}
